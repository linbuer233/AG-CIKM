{
 "cells": [
  {
   "cell_type": "code",
   "execution_count": 1,
   "metadata": {},
   "outputs": [
    {
     "name": "stdout",
     "output_type": "stream",
     "text": [
      "Pysteps configuration file found at: C:\\Users\\林子扬\\pysteps\\pystepsrc\n",
      "\n"
     ]
    }
   ],
   "source": [
    "import numpy as np\n",
    "import pandas as pd\n",
    "import h5py\n",
    "import torch\n",
    "\n",
    "from CommonFun import model_eva\n",
    "# mymodel\n",
    "from config import config as cfg\n",
    "from layers.mergeBlock import mergeBlock1 as mergeBlock\n",
    "from AEGAN import AE\n",
    "\n",
    "# pysteps\n",
    "from pysteps import nowcasts\n",
    "from pysteps.motion.lucaskanade import dense_lucaskanade\n",
    "import matplotlib.pyplot as plt\n",
    "from matplotlib.font_manager import FontProperties\n",
    "from matplotlib import font_manager\n",
    "from matplotlib import rcParams\n",
    "\n",
    "plt.rcParams['font.sans-serif'] = ['SimHei']  ###防止无法显示中文并设置黑体\n",
    "plt.rcParams['axes.unicode_minus'] = False  ###用来正常显示负号\n",
    "\n",
    "TimesSong = FontProperties(fname=\"C:\\\\Users\\\\林子扬\\\\Desktop\\\\TimesSong.ttf\")\n",
    "font_manager.fontManager.addfont(\"C:\\\\Users\\\\林子扬\\Desktop\\\\TimesSong.ttf\")\n",
    "\n",
    "# 全局设置字体及大小，设置公式字体即可\n",
    "config = {\n",
    "    \"mathtext.fontset\":'stix',\n",
    "    \"font.family\":'serif',\n",
    "    \"font.serif\": ['TimesSong'],\n",
    "    'axes.unicode_minus': False, # 处理负号，即-号\n",
    "    \"font.size\": 12\n",
    "}\n",
    "\n",
    "rcParams.update(config)"
   ]
  },
  {
   "cell_type": "code",
   "execution_count": 2,
   "metadata": {},
   "outputs": [],
   "source": [
    "bilv = [0.1, 0.3, 0.3, 0.3]\n",
    "# 模型参数\n",
    "input_channels = 1\n",
    "output_channels = 1\n",
    "time_steps = 5\n",
    "forecast_steps = 10\n",
    "batch_size = 10\n",
    "output_shape = 128\n",
    "\n",
    "dataset = h5py.File(cfg().datatest, 'r')\n",
    "dataset = dataset['train']\n",
    "# 数据读取和预处理\n",
    "def datapre(st, ed, dataset=dataset):\n",
    "    train_data = torch.zeros(batch_size, 15, 4, 128, 128)\n",
    "    train_data[:, :, :, 13:114, 13:114] = torch.Tensor(dataset[st:ed, :, :, :, :])\n",
    "    # train_data[:, :, :, 13:114,13:114] = torch.Tensor(dataset[10:batch_size+10, :, :, :, :])\n",
    "    train_data = train_data * 95 / 255 - 10\n",
    "    train_data = torch.swapaxes(train_data, 0, 1)\n",
    "    train_data = (train_data[:, :, 0, :, :] * bilv[0] +\n",
    "                  train_data[:, :, 1, :, :] * bilv[1] +\n",
    "                  train_data[:, :, 2, :, :] * bilv[2] +\n",
    "                  train_data[:, :, 3, :, :] * bilv[3]).reshape(\n",
    "        15, batch_size, 1, output_shape, output_shape)\n",
    "\n",
    "    inputx = train_data[:5, :, :, :, :].to(cfg().device)\n",
    "    y = train_data[5:, :, :, :, :].to(cfg().device)\n",
    "    return train_data,inputx, y  # T | B | C | H | W"
   ]
  },
  {
   "cell_type": "code",
   "execution_count": 3,
   "metadata": {},
   "outputs": [],
   "source": [
    "tdata=datapre(0,10)"
   ]
  },
  {
   "cell_type": "code",
   "execution_count": 4,
   "metadata": {},
   "outputs": [],
   "source": [
    "def compute_data(dataarray,huinum):\n",
    "    return np.where(dataarray[:,:,0,:,:]>=huinum,1,0).sum(axis=(0,2,3))/np.where(dataarray[:,:,0,:,:]>0,1,0).sum(axis=(0,2,3))"
   ]
  },
  {
   "cell_type": "code",
   "execution_count": 5,
   "metadata": {},
   "outputs": [],
   "source": [
    "# 训练集\n",
    "trainfenbu=np.zeros((10000))\n",
    "count=0\n",
    "for data_i in [cfg().datatrain1,cfg().datatrain2]:\n",
    "    dataset = h5py.File(data_i, 'r')\n",
    "    dataset = dataset['train']\n",
    "    for i in range(0,4991,10):\n",
    "        trainfenbu[count:count+10]=compute_data(datapre(i,i+10,dataset)[0],20)\n",
    "        count+=10"
   ]
  },
  {
   "cell_type": "code",
   "execution_count": 6,
   "metadata": {},
   "outputs": [],
   "source": [
    "trainfenbu20=trainfenbu"
   ]
  },
  {
   "cell_type": "code",
   "execution_count": 7,
   "metadata": {},
   "outputs": [],
   "source": [
    "# 测试集\n",
    "testfenbu=np.zeros((2000))\n",
    "count=0\n",
    "dataset = h5py.File(cfg().datatest, 'r')\n",
    "dataset = dataset['train']\n",
    "for i in range(0,1991,10):\n",
    "    testfenbu[count:count+10]=compute_data(datapre(i,i+10,dataset)[0],20)\n",
    "    count+=10"
   ]
  },
  {
   "cell_type": "code",
   "execution_count": 8,
   "metadata": {},
   "outputs": [],
   "source": [
    "# 验证集\n",
    "yanzfenbu=np.zeros((2000))\n",
    "count=0\n",
    "dataset = h5py.File(cfg().datayanzeng, 'r')\n",
    "dataset = dataset['train']\n",
    "for i in range(0,1991,10):\n",
    "    yanzfenbu[count:count+10]=compute_data(datapre(i,i+10,dataset)[0],20)\n",
    "    count+=10"
   ]
  },
  {
   "cell_type": "code",
   "execution_count": 9,
   "metadata": {},
   "outputs": [],
   "source": [
    "def fen2list(trainfenbu20,num):\n",
    "    return [(trainfenbu20<=0.25).sum()/num,((trainfenbu20<=0.5) & (trainfenbu20>0.25)).sum()/num,((trainfenbu20<=0.75) & (trainfenbu20>0.5)).sum()/num,(trainfenbu20>0.75).sum()/num]"
   ]
  },
  {
   "cell_type": "code",
   "execution_count": 10,
   "metadata": {},
   "outputs": [],
   "source": [
    "train_set=fen2list(trainfenbu20,10000)\n",
    "test_set=fen2list(testfenbu,2000)\n",
    "yanz_set=fen2list(yanzfenbu,2000)"
   ]
  },
  {
   "cell_type": "code",
   "execution_count": 29,
   "metadata": {},
   "outputs": [],
   "source": [
    "def drawbars(ax,a,xloc):\n",
    "    color=['#f6d39f','#ec9e6e','#da5f42','#ab3639']\n",
    "    color=['#77DAE6','#7BBBE8','#7E9DE9','#8382EB']\n",
    "    ax.barh(xloc,a[0],height=0.2,color=color[0])\n",
    "    ax.barh(xloc,a[1],left=a[0],height=0.2,color=color[1])\n",
    "    ax.barh(xloc,a[2],left=a[0]+a[1],height=0.2,color=color[2])\n",
    "    ax.barh(xloc,a[3],left=a[0]+a[1]+a[2],height=0.2,color=color[3])\n",
    "def drawbars1(ax,a,xloc):\n",
    "    color=['#f6d39f','#ec9e6e','#da5f42','#ab3639']\n",
    "    color=['#77DAE6','#7BBBE8','#7E9DE9','#8382EB']\n",
    "    ax.barh(xloc,a[0],height=0.2,color=color[0],label='$x\\leqslant 25\\\\%$')\n",
    "    ax.barh(xloc,a[1],left=a[0],height=0.2,color=color[1],label='$25\\\\%<x \\leqslant 50\\\\%$')\n",
    "    ax.barh(xloc,a[2],left=a[0]+a[1],height=0.2,color=color[2],label='$50\\\\% x \\leqslant 75\\\\%$')\n",
    "    ax.barh(xloc,a[3],left=a[0]+a[1]+a[2],height=0.2,color=color[3],label='$x>75\\\\%$')"
   ]
  },
  {
   "cell_type": "code",
   "execution_count": 30,
   "metadata": {},
   "outputs": [
    {
     "name": "stderr",
     "output_type": "stream",
     "text": [
      "D:\\Temp\\ipykernel_23004\\3095410688.py:15: UserWarning: FixedFormatter should only be used together with FixedLocator\n",
      "  ax.set_xticklabels(['0','0.2','0.4','0.6','0.8','1'])\n"
     ]
    },
    {
     "data": {
      "image/png": "[encoded data removed]",
      "text/plain": [
       "<Figure size 1600x400 with 1 Axes>"
      ]
     },
     "metadata": {},
     "output_type": "display_data"
    }
   ],
   "source": [
    "fig=plt.figure(figsize=(16,4))\n",
    "ax=fig.subplots(1,1)\n",
    "drawbars1(ax,train_set,0)\n",
    "drawbars(ax,test_set,0.3)\n",
    "drawbars(ax,yanz_set,0.6)\n",
    "\n",
    "# ax.text(test_set[0]-0.155,-0.016,str(test_set[0]))\n",
    "# ax.text(test_set[1],-0.016,str(test_set[1]))\n",
    "# ax.text(test_set[2],-0.016,str(test_set[2]))\n",
    "# ax.text(test_set[3]+0.8,-0.016,str(test_set[3]))\n",
    "ax.set_yticks([0,0.3,0.6])\n",
    "ax.set_yticklabels(['训练集','测试集','验证集'])\n",
    "ax.tick_params(labelsize=20)\n",
    "ax.set_xlabel('占比',size=20)\n",
    "ax.set_xticklabels(['0','0.2','0.4','0.6','0.8','1'])\n",
    "ax.set_xlim(0,1)\n",
    "fig.legend(loc = 'lower center',ncol=4,frameon = False,bbox_to_anchor=(0.5, -0.2),prop = {'size':18})\n",
    "plt.savefig('D:\\\\_毕业论文\\\\毕业论文\\\\picture\\\\myfenbu.png',dpi=300,bbox_inches='tight')"
   ]
  },
  {
   "cell_type": "code",
   "execution_count": null,
   "metadata": {},
   "outputs": [],
   "source": []
  }
 ],
 "metadata": {
  "kernelspec": {
   "display_name": "Python 3",
   "language": "python",
   "name": "python3"
  },
  "language_info": {
   "codemirror_mode": {
    "name": "ipython",
    "version": 3
   },
   "file_extension": ".py",
   "mimetype": "text/x-python",
   "name": "python",
   "nbconvert_exporter": "python",
   "pygments_lexer": "ipython3",
   "version": "3.9.16"
  },
  "orig_nbformat": 4
 },
 "nbformat": 4,
 "nbformat_minor": 2
}
